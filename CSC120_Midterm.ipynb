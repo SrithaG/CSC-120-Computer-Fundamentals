{
  "nbformat": 4,
  "nbformat_minor": 0,
  "metadata": {
    "colab": {
      "name": "CSC120_Midterm.ipynb",
      "provenance": [],
      "authorship_tag": "ABX9TyMM0N77eArXiCl783riiKi0",
      "include_colab_link": true
    },
    "kernelspec": {
      "name": "python3",
      "display_name": "Python 3"
    },
    "language_info": {
      "name": "python"
    }
  },
  "cells": [
    {
      "cell_type": "markdown",
      "metadata": {
        "id": "view-in-github",
        "colab_type": "text"
      },
      "source": [
        "<a href=\"https://colab.research.google.com/github/SrithaG/CSC-120-Computer-Fundamentals/blob/main/CSC120_Midterm.ipynb\" target=\"_parent\"><img src=\"https://colab.research.google.com/assets/colab-badge.svg\" alt=\"Open In Colab\"/></a>"
      ]
    },
    {
      "cell_type": "code",
      "metadata": {
        "id": "YpHX0klP8b5m",
        "colab": {
          "base_uri": "https://localhost:8080/"
        },
        "outputId": "9eb6e1e9-262d-4c77-9995-5e7d9cefeef4"
      },
      "source": [
        "user_string = int(input(\"Enter a binary string: \"))\n",
        "msb = int(str(user_string)[:1])\n",
        "print(\"The Most Significant Bit is:\", msb)\n"
      ],
      "execution_count": null,
      "outputs": [
        {
          "output_type": "stream",
          "text": [
            "Enter a binary string: 11110000\n",
            "The Most Significant Bit is: 1\n"
          ],
          "name": "stdout"
        }
      ]
    },
    {
      "cell_type": "code",
      "metadata": {
        "id": "OB-ABf5h__zq",
        "colab": {
          "base_uri": "https://localhost:8080/"
        },
        "outputId": "1904f30f-c60c-49f0-c55d-8e884d32619d"
      },
      "source": [
        "username = input(\"Please enter username: \")\n",
        "if len(username) <= 6:\n",
        "  print(\"Invalid Username. The length should be greater than 6 characters\")\n",
        "elif username.islower() == False:\n",
        "    print(\"Invalid Username. Uppercase character found\")\n",
        "else:\n",
        "  print(\"Valid Username\")"
      ],
      "execution_count": null,
      "outputs": [
        {
          "output_type": "stream",
          "text": [
            "Please enter username: ABCxyzw\n",
            "Invalid Username. Uppercase character found\n"
          ],
          "name": "stdout"
        }
      ]
    },
    {
      "cell_type": "code",
      "metadata": {
        "id": "HTxm0pw1Ego2"
      },
      "source": [
        "i = 7\n",
        "for j in range(1, 10):\n",
        "  if j > i:\n",
        "    print(j)"
      ],
      "execution_count": null,
      "outputs": []
    },
    {
      "cell_type": "code",
      "metadata": {
        "id": "HkRwjYOMCYRf"
      },
      "source": [
        "exponent = 0\n",
        "# from 0 to 20\n",
        "for i in range(0, 21):\n",
        "    output = 2 ** exponent\n",
        "    exponent = exponent + 1\n",
        "    print(output)"
      ],
      "execution_count": null,
      "outputs": []
    },
    {
      "cell_type": "code",
      "metadata": {
        "id": "hgmwqwE-HEgO"
      },
      "source": [
        "for i in range(10,50,4):\n",
        "  print(i*i)"
      ],
      "execution_count": null,
      "outputs": []
    },
    {
      "cell_type": "code",
      "metadata": {
        "id": "EqUWv5UmIGov"
      },
      "source": [
        "a = 87\n",
        "b = a%7\n",
        "print(b)\n",
        "c = a/7\n",
        "print(c)"
      ],
      "execution_count": null,
      "outputs": []
    }
  ]
}