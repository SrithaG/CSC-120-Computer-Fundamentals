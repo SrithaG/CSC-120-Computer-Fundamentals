{
  "nbformat": 4,
  "nbformat_minor": 0,
  "metadata": {
    "colab": {
      "name": "CSC120_LAB05",
      "provenance": [],
      "authorship_tag": "ABX9TyNAY6EdNExlzNSrXhMvYAY7",
      "include_colab_link": true
    },
    "kernelspec": {
      "display_name": "Python 3",
      "name": "python3"
    },
    "language_info": {
      "name": "python"
    }
  },
  "cells": [
    {
      "cell_type": "markdown",
      "metadata": {
        "id": "view-in-github",
        "colab_type": "text"
      },
      "source": [
        "<a href=\"https://colab.research.google.com/github/SrithaG/CSC-120-Computer-Fundamentals/blob/main/CSC120_LAB05.ipynb\" target=\"_parent\"><img src=\"https://colab.research.google.com/assets/colab-badge.svg\" alt=\"Open In Colab\"/></a>"
      ]
    },
    {
      "cell_type": "code",
      "metadata": {
        "colab": {
          "base_uri": "https://localhost:8080/"
        },
        "id": "SwK9A6rzjxrd",
        "outputId": "06ce5bd8-32f9-455b-f4ab-c097f1b90bd6"
      },
      "source": [
        "  #Question 1\n",
        "list = [0, 1, 2 ,56, 77]\n",
        "maximum_number = 0\n",
        "for number in range(0, len(list)):\n",
        "    if number > maximum_number:\n",
        "        maximum_number = number\n",
        "print(list[maximum_number])"
      ],
      "execution_count": null,
      "outputs": [
        {
          "output_type": "stream",
          "text": [
            "77\n"
          ],
          "name": "stdout"
        }
      ]
    },
    {
      "cell_type": "code",
      "metadata": {
        "id": "qc152TDZAQst"
      },
      "source": [
        "# question 2\n",
        "\n",
        "def create_list():\n",
        "  import random\n",
        "  MAX_LEN = 50\n",
        "  my_list = []\n",
        "  for i in range(MAX_LEN):\n",
        "    my_list.append(random.randint(1,99))\n",
        "  return my_list\n",
        "\n",
        "create_list()"
      ],
      "execution_count": null,
      "outputs": []
    },
    {
      "cell_type": "code",
      "metadata": {
        "id": "MYCcgJJsBHUU",
        "colab": {
          "base_uri": "https://localhost:8080/"
        },
        "outputId": "023ab71c-a54d-4364-91a6-66b1f6c573e9"
      },
      "source": [
        "# question 3\n",
        "names = [\"Jennifer\", \"Albatross\", \"Justin\", \"Dave\", \"Shankarnarayan\", \"Ezra\", \"Alice\", \"Kwabena\"]\n",
        "for i in range(len(names)):\n",
        "  length = len(names[i])\n",
        "  print(\"The length of the name\", names[i], \"is\", length)"
      ],
      "execution_count": null,
      "outputs": [
        {
          "output_type": "stream",
          "text": [
            "The length of the name Jennifer is 8\n",
            "The length of the name Albatross is 9\n",
            "The length of the name Justin is 6\n",
            "The length of the name Dave is 4\n",
            "The length of the name Shankarnarayan is 14\n",
            "The length of the name Ezra is 4\n",
            "The length of the name Alice is 5\n",
            "The length of the name Kwabena is 7\n"
          ],
          "name": "stdout"
        }
      ]
    },
    {
      "cell_type": "code",
      "metadata": {
        "id": "AUUpIYZMFBiL"
      },
      "source": [
        "# question 4\n",
        "names = [\"Jennifer\", \"Albatross\", \"Justin\", \"Dave\", \"Shankarnarayan\", \"Ezra\", \"Alice\", \"Kwabena\"]\n",
        "for name in names:\n",
        "  short_list = []\n",
        "  for rest_of_names in names:\n",
        "        if len(rest_of_names) <= len(name):\n",
        "          short_list.append(rest_of_names)\n",
        "        if name in short_list:\n",
        "          short_list.remove(name)\n",
        "  print(\"Names that are shorter in length or equal to\", name, \"are\", len(short_list))\n",
        "  print(short_list)"
      ],
      "execution_count": null,
      "outputs": []
    },
    {
      "cell_type": "code",
      "metadata": {
        "id": "kIMrd5WNt-KW",
        "colab": {
          "base_uri": "https://localhost:8080/"
        },
        "outputId": "6bb0d1db-470a-4dd5-9f35-7f183a902d71"
      },
      "source": [
        "# question 5\n",
        "names = [\"Jennifer\", \"Albatross\", \"Justin\", \"Dave\", \"Shankarnarayan\", \"Ezra\", \"Alice\", \"Kwabena\"]\n",
        "i = 0\n",
        "while i < (len(names)):\n",
        "  short_list = []\n",
        "  name = names[i]\n",
        "  c = 0\n",
        "  while c < (len(names)):\n",
        "    if len(names[c]) <= len(names[i]):\n",
        "      short_list.append(names[c])\n",
        "    if name in short_list:\n",
        "      short_list.remove(names[i])\n",
        "    c = c + 1\n",
        "  i = i + 1\n",
        "  print(\"Names that are shorter in length or equal to\", name, \"are\", len(short_list))\n",
        "  print(short_list)"
      ],
      "execution_count": null,
      "outputs": [
        {
          "output_type": "stream",
          "text": [
            "Names that are shorter in length or equal to Jennifer are 5\n",
            "['Justin', 'Dave', 'Ezra', 'Alice', 'Kwabena']\n",
            "Names that are shorter in length or equal to Albatross are 6\n",
            "['Jennifer', 'Justin', 'Dave', 'Ezra', 'Alice', 'Kwabena']\n",
            "Names that are shorter in length or equal to Justin are 3\n",
            "['Dave', 'Ezra', 'Alice']\n",
            "Names that are shorter in length or equal to Dave are 1\n",
            "['Ezra']\n",
            "Names that are shorter in length or equal to Shankarnarayan are 7\n",
            "['Jennifer', 'Albatross', 'Justin', 'Dave', 'Ezra', 'Alice', 'Kwabena']\n",
            "Names that are shorter in length or equal to Ezra are 1\n",
            "['Dave']\n",
            "Names that are shorter in length or equal to Alice are 2\n",
            "['Dave', 'Ezra']\n",
            "Names that are shorter in length or equal to Kwabena are 4\n",
            "['Justin', 'Dave', 'Ezra', 'Alice']\n"
          ],
          "name": "stdout"
        }
      ]
    },
    {
      "cell_type": "code",
      "metadata": {
        "id": "MhMnzIxgHosZ",
        "colab": {
          "base_uri": "https://localhost:8080/"
        },
        "outputId": "708dadc0-5cbc-41df-c1ec-a7b3bc33d458"
      },
      "source": [
        "# question 6\n",
        "import random\n",
        "top_scores = []\n",
        "for i in range(50):\n",
        "  rand_num = random.randint(0, 100)\n",
        "  print(\"New number generated: \", str(rand_num))\n",
        "  top_scores.append(rand_num)\n",
        "  if len(top_scores) > 5:\n",
        "    top_scores.remove(rand_num)\n",
        "    top_scores.insert(top_scores.index(min(top_scores)), rand_num)\n",
        "    top_scores.remove(min(top_scores))\n",
        "\n",
        "  print(top_scores)"
      ],
      "execution_count": null,
      "outputs": [
        {
          "output_type": "stream",
          "text": [
            "New number generated:  57\n",
            "[57]\n",
            "New number generated:  44\n",
            "[57, 44]\n",
            "New number generated:  15\n",
            "[57, 44, 15]\n",
            "New number generated:  45\n",
            "[57, 44, 15, 45]\n",
            "New number generated:  28\n",
            "[57, 44, 15, 45, 28]\n",
            "New number generated:  30\n",
            "[57, 44, 30, 45, 28]\n",
            "New number generated:  55\n",
            "[57, 44, 30, 45, 55]\n",
            "New number generated:  15\n",
            "[57, 44, 30, 45, 55]\n",
            "New number generated:  0\n",
            "[57, 44, 30, 45, 55]\n",
            "New number generated:  13\n",
            "[57, 44, 30, 45, 55]\n",
            "New number generated:  45\n",
            "[57, 44, 45, 55, 45]\n",
            "New number generated:  67\n",
            "[57, 67, 45, 55, 45]\n",
            "New number generated:  42\n",
            "[57, 67, 45, 55, 45]\n",
            "New number generated:  32\n",
            "[57, 67, 45, 55, 45]\n",
            "New number generated:  64\n",
            "[57, 67, 64, 55, 45]\n",
            "New number generated:  71\n",
            "[57, 67, 64, 55, 71]\n",
            "New number generated:  81\n",
            "[57, 67, 64, 81, 71]\n",
            "New number generated:  36\n",
            "[57, 67, 64, 81, 71]\n",
            "New number generated:  6\n",
            "[57, 67, 64, 81, 71]\n",
            "New number generated:  85\n",
            "[85, 67, 64, 81, 71]\n",
            "New number generated:  21\n",
            "[85, 67, 64, 81, 71]\n",
            "New number generated:  3\n",
            "[85, 67, 64, 81, 71]\n",
            "New number generated:  68\n",
            "[85, 67, 68, 81, 71]\n",
            "New number generated:  81\n",
            "[85, 81, 68, 71, 81]\n",
            "New number generated:  52\n",
            "[85, 81, 68, 71, 81]\n",
            "New number generated:  0\n",
            "[85, 81, 68, 71, 81]\n",
            "New number generated:  70\n",
            "[85, 81, 70, 71, 81]\n",
            "New number generated:  38\n",
            "[85, 81, 70, 71, 81]\n",
            "New number generated:  25\n",
            "[85, 81, 70, 71, 81]\n",
            "New number generated:  94\n",
            "[85, 81, 94, 71, 81]\n",
            "New number generated:  75\n",
            "[85, 81, 94, 75, 81]\n",
            "New number generated:  53\n",
            "[85, 81, 94, 75, 81]\n",
            "New number generated:  75\n",
            "[85, 81, 94, 81, 75]\n",
            "New number generated:  25\n",
            "[85, 81, 94, 81, 75]\n",
            "New number generated:  18\n",
            "[85, 81, 94, 81, 75]\n",
            "New number generated:  13\n",
            "[85, 81, 94, 81, 75]\n",
            "New number generated:  38\n",
            "[85, 81, 94, 81, 75]\n",
            "New number generated:  47\n",
            "[85, 81, 94, 81, 75]\n",
            "New number generated:  49\n",
            "[85, 81, 94, 81, 75]\n",
            "New number generated:  3\n",
            "[85, 81, 94, 81, 75]\n",
            "New number generated:  23\n",
            "[85, 81, 94, 81, 75]\n",
            "New number generated:  62\n",
            "[85, 81, 94, 81, 75]\n",
            "New number generated:  89\n",
            "[85, 81, 94, 81, 89]\n",
            "New number generated:  92\n",
            "[85, 92, 94, 81, 89]\n",
            "New number generated:  74\n",
            "[85, 92, 94, 81, 89]\n",
            "New number generated:  98\n",
            "[85, 92, 94, 98, 89]\n",
            "New number generated:  82\n",
            "[85, 92, 94, 98, 89]\n",
            "New number generated:  91\n",
            "[91, 92, 94, 98, 89]\n",
            "New number generated:  51\n",
            "[91, 92, 94, 98, 89]\n",
            "New number generated:  2\n",
            "[91, 92, 94, 98, 89]\n"
          ],
          "name": "stdout"
        }
      ]
    },
    {
      "cell_type": "code",
      "metadata": {
        "colab": {
          "base_uri": "https://localhost:8080/"
        },
        "id": "GtX35o6zWJPx",
        "outputId": "c8cd9a2b-5fb3-4024-8f08-2c7afb452a32"
      },
      "source": [
        "#Extra Credit: Problem 1\n",
        "#bubblesort\n",
        "def main():\n",
        "  sort_list = [1, 5, 78, 9, 4]\n",
        "  print(bubblesort(sort_list))\n",
        "\n",
        "def bubblesort(sort_list):\n",
        "  for x in range(0, len(sort_list) - 1):\n",
        "    for y in range(0, len(sort_list)- 1 - x):\n",
        "      if sort_list[y] > sort_list[y + 1]:\n",
        "        sort_list[y], sort_list[y + 1] = sort_list[y + 1], sort_list[y]\n",
        "  return sort_list\n",
        "\n",
        "main()"
      ],
      "execution_count": null,
      "outputs": [
        {
          "output_type": "stream",
          "text": [
            "[1, 4, 5, 9, 78]\n"
          ],
          "name": "stdout"
        }
      ]
    }
  ]
}