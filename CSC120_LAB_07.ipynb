{
  "nbformat": 4,
  "nbformat_minor": 0,
  "metadata": {
    "colab": {
      "name": "CSC120 LAB 07",
      "provenance": [],
      "authorship_tag": "ABX9TyOizvmN4GABHJwrtOTmnfyk",
      "include_colab_link": true
    },
    "kernelspec": {
      "name": "python3",
      "display_name": "Python 3"
    },
    "language_info": {
      "name": "python"
    }
  },
  "cells": [
    {
      "cell_type": "markdown",
      "metadata": {
        "id": "view-in-github",
        "colab_type": "text"
      },
      "source": [
        "<a href=\"https://colab.research.google.com/github/SrithaG/CSC-120-Computer-Fundamentals/blob/main/CSC120_LAB_07.ipynb\" target=\"_parent\"><img src=\"https://colab.research.google.com/assets/colab-badge.svg\" alt=\"Open In Colab\"/></a>"
      ]
    },
    {
      "cell_type": "code",
      "metadata": {
        "colab": {
          "base_uri": "https://localhost:8080/"
        },
        "id": "P_GAGkeqDQfR",
        "outputId": "f3c3d40e-df2b-4937-bbe1-6123db8044f0"
      },
      "source": [
        "import requests\n",
        "\n",
        "response = requests.get('https://reddit.com')\n",
        "print(response.status_code)\n",
        "print(response.headers['Content-Type'])\n",
        "\n",
        "if response.status_code == 200:\n",
        "  print(\"SUCCESS\")\n",
        "else: \n",
        "  print(\"Error\")"
      ],
      "execution_count": null,
      "outputs": [
        {
          "output_type": "stream",
          "text": [
            "200\n",
            "text/html; charset=utf-8\n",
            "SUCCESS\n"
          ],
          "name": "stdout"
        }
      ]
    }
  ]
}