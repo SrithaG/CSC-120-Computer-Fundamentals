{
  "nbformat": 4,
  "nbformat_minor": 0,
  "metadata": {
    "colab": {
      "name": "CSC120_LAB04.ipynb",
      "provenance": [],
      "authorship_tag": "ABX9TyNSTfvRLIrrpIb7AErTBszv",
      "include_colab_link": true
    },
    "kernelspec": {
      "name": "python3",
      "display_name": "Python 3"
    },
    "language_info": {
      "name": "python"
    }
  },
  "cells": [
    {
      "cell_type": "markdown",
      "metadata": {
        "id": "view-in-github",
        "colab_type": "text"
      },
      "source": [
        "<a href=\"https://colab.research.google.com/github/SrithaG/CSC-120-Computer-Fundamentals/blob/main/CSC120_LAB04.ipynb\" target=\"_parent\"><img src=\"https://colab.research.google.com/assets/colab-badge.svg\" alt=\"Open In Colab\"/></a>"
      ]
    },
    {
      "cell_type": "code",
      "metadata": {
        "id": "8XBlhkh97zq2"
      },
      "source": [
        "for i in range(10, 100):\n",
        "  print(i)"
      ],
      "execution_count": null,
      "outputs": []
    },
    {
      "cell_type": "code",
      "metadata": {
        "id": "PN__Dp6x8Vsb"
      },
      "source": [
        "user_num = int(input(\"Please enter a number between 0 and 99: \"))\n",
        "if user_num == 0 or user_num <= 9:\n",
        "  print(\"This is a single digit number\")\n",
        "elif user_num >= 10 and user_num <= 99:\n",
        "  print(\"This is a double digit number\")\n"
      ],
      "execution_count": null,
      "outputs": []
    },
    {
      "cell_type": "code",
      "metadata": {
        "id": "cu9aNFIZ-iVI"
      },
      "source": [
        "for i in range (10, 100):\n",
        "  if i % 2 == 0:\n",
        "    print(i)"
      ],
      "execution_count": null,
      "outputs": []
    },
    {
      "cell_type": "code",
      "metadata": {
        "id": "7P9b_1z-_D_2"
      },
      "source": [
        "number = 5\n",
        "for i in range (1, 11):\n",
        "  multiply = number * i\n",
        "  print(multiply)"
      ],
      "execution_count": null,
      "outputs": []
    },
    {
      "cell_type": "code",
      "metadata": {
        "id": "AirtVsN0_rgK"
      },
      "source": [
        "number = 5\n",
        "for i in range (1, 11):\n",
        "  multiply = number * i\n",
        "  if multiply % 3 == 0:\n",
        "    print(multiply, \"is divisible by 3\")\n",
        "  else:\n",
        "    print(multiply)"
      ],
      "execution_count": null,
      "outputs": []
    },
    {
      "cell_type": "code",
      "metadata": {
        "id": "4CWAvfwzBAsE"
      },
      "source": [
        "# Python code\n",
        "prices = [10, 130, 25, 64, 91, 66, 42, 18, 141, 64]\n",
        "for x in prices:\n",
        "  print(x)"
      ],
      "execution_count": null,
      "outputs": []
    },
    {
      "cell_type": "code",
      "metadata": {
        "id": "S7ataPQBBpBc"
      },
      "source": [
        "# Python code\n",
        "prices = [10, 130, 25, 64, 91, 66, 42, 18, 141, 64]\n",
        "\n",
        "filtered_list = []\n",
        "for x in prices:\n",
        "  if x > 20 and x < 80:\n",
        "    filtered_list.append(x)\n",
        "\n",
        "for x in filtered_list:\n",
        "  print(x)"
      ],
      "execution_count": null,
      "outputs": []
    },
    {
      "cell_type": "code",
      "metadata": {
        "id": "uGEREKsQCrkl"
      },
      "source": [
        "username = input(\"Please enter the username: \")\n",
        "password = input(\"Please enter the password: \")\n",
        "if username == \"student007\" and password == \"new_password\":\n",
        "  print(\"Login sucessful!\")\n",
        "else:\n",
        "  print(\"Try Again. Login failure.\")"
      ],
      "execution_count": null,
      "outputs": []
    },
    {
      "cell_type": "code",
      "metadata": {
        "id": "pjPiY8kpDodn"
      },
      "source": [
        "username = input(\"Please enter username: \")\n",
        "if len(username) < 5 or len(username) > 16:\n",
        "  print(\"Invalid Username\")\n",
        "else:\n",
        "  print(\"Valid Username\")"
      ],
      "execution_count": null,
      "outputs": []
    },
    {
      "cell_type": "code",
      "metadata": {
        "id": "cpQGhb-vFIJH"
      },
      "source": [
        "#EXTRA CREDIT PRBLEM 1\n",
        "\n",
        "#Python code\n",
        "item_prices = [10, 40, 1, 16, 25, 34, 49, 40]\n",
        "length = len(item_prices)\n",
        "for x in range(0, length):\n",
        "  for y in range( x + 1, length):\n",
        "    if (item_prices[x] + item_prices[y] == 50):\n",
        "      print(item_prices[x], \",\", item_prices[y])\n",
        "\n",
        "\n"
      ],
      "execution_count": null,
      "outputs": []
    },
    {
      "cell_type": "code",
      "metadata": {
        "colab": {
          "base_uri": "https://localhost:8080/"
        },
        "id": "kyDB-nhsG8tk",
        "outputId": "b3666ae3-4813-46d6-cf3d-fa80efa2744d"
      },
      "source": [
        "#EXTRA CREDIT PRBLEM 2\n",
        "#Python code \n",
        "names = [\"sarang\",\"john\",\"lily\",\"jasmine\",\"mara\",\"dave\",\"chester\"]\n",
        "user_name = input(\"Please enter the name you want to find: \")\n",
        "if user_name in names:\n",
        "  print(\"Name Found:\", user_name)\n",
        "else:\n",
        "  print(\"Name not found\")"
      ],
      "execution_count": null,
      "outputs": [
        {
          "output_type": "stream",
          "text": [
            "Please enter the name you want to find: sarang\n",
            "Name Found: sarang\n"
          ],
          "name": "stdout"
        }
      ]
    }
  ]
}