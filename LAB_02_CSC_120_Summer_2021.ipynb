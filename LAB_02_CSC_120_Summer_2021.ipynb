{
  "nbformat": 4,
  "nbformat_minor": 0,
  "metadata": {
    "colab": {
      "name": "LAB 02 -CSC 120 Summer 2021",
      "provenance": [],
      "authorship_tag": "ABX9TyOHufVfMFxQjVBXuHA/d+aq",
      "include_colab_link": true
    },
    "kernelspec": {
      "name": "python3",
      "display_name": "Python 3"
    },
    "language_info": {
      "name": "python"
    }
  },
  "cells": [
    {
      "cell_type": "markdown",
      "metadata": {
        "id": "view-in-github",
        "colab_type": "text"
      },
      "source": [
        "<a href=\"https://colab.research.google.com/github/SrithaG/CSC-120-Computer-Fundamentals/blob/main/LAB_02_CSC_120_Summer_2021.ipynb\" target=\"_parent\"><img src=\"https://colab.research.google.com/assets/colab-badge.svg\" alt=\"Open In Colab\"/></a>"
      ]
    },
    {
      "cell_type": "code",
      "metadata": {
        "colab": {
          "base_uri": "https://localhost:8080/"
        },
        "id": "XlPPFlU4zvNp",
        "outputId": "d37784e2-0cd4-4a3f-9c5b-6b86f7ea7feb"
      },
      "source": [
        "names = [1,2,4,6,9]\n",
        "\n",
        "length = len (names)\n",
        "\n",
        "for i in range(length):\n",
        "\n",
        "   print (names[i])"
      ],
      "execution_count": null,
      "outputs": [
        {
          "output_type": "stream",
          "text": [
            "1\n",
            "2\n",
            "4\n",
            "6\n",
            "9\n"
          ],
          "name": "stdout"
        }
      ]
    },
    {
      "cell_type": "code",
      "metadata": {
        "id": "uMQT-luCv2ox"
      },
      "source": [
        "# \n",
        "# Sritha Reddy Gade\n",
        "# May 31, 2021\n",
        "#Lab02\n",
        "#\n",
        "num1 = float(input('Please enter the first number: '))\n",
        "num2 = float(input('Please enter the second number: '))\n",
        "total = num1 + num2\n",
        "print('The total of the two numbers is:', str(total))\n"
      ],
      "execution_count": null,
      "outputs": []
    }
  ]
}