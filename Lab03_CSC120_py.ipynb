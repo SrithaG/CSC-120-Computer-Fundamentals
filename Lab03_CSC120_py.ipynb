{
  "nbformat": 4,
  "nbformat_minor": 0,
  "metadata": {
    "colab": {
      "name": "Lab03_CSC120.py",
      "provenance": [],
      "authorship_tag": "ABX9TyNadwdBMGrkHOShrsNJ4DBc",
      "include_colab_link": true
    },
    "kernelspec": {
      "name": "python3",
      "display_name": "Python 3"
    },
    "language_info": {
      "name": "python"
    }
  },
  "cells": [
    {
      "cell_type": "markdown",
      "metadata": {
        "id": "view-in-github",
        "colab_type": "text"
      },
      "source": [
        "<a href=\"https://colab.research.google.com/github/SrithaG/CSC-120-Computer-Fundamentals/blob/main/Lab03_CSC120_py.ipynb\" target=\"_parent\"><img src=\"https://colab.research.google.com/assets/colab-badge.svg\" alt=\"Open In Colab\"/></a>"
      ]
    },
    {
      "cell_type": "code",
      "metadata": {
        "id": "aUrZ7nWkOYFk"
      },
      "source": [
        "number = int(input('Enter a number: '))\n",
        "even_or_odd = number % 2\n",
        "if even_or_odd > 0:\n",
        "  print('This is an odd number')\n",
        "else:\n",
        "  print('This is an even number')\n",
        "\n",
        "if number > 0 or number == 0:\n",
        "   print(\"This is also a Positive number\")\n",
        "else:\n",
        "   print(\"This is also a Negative number\")"
      ],
      "execution_count": null,
      "outputs": []
    },
    {
      "cell_type": "code",
      "metadata": {
        "id": "9YJAQio0PW-W"
      },
      "source": [
        "\n",
        "numbers = 40\n",
        "print(\"The first 20 even numbers are: \")\n",
        "for number in range(1, 41):\n",
        "    if(number % 2 == 0):\n",
        "        print( number)"
      ],
      "execution_count": null,
      "outputs": []
    }
  ]
}