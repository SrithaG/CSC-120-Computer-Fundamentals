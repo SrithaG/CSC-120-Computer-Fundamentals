{
  "nbformat": 4,
  "nbformat_minor": 0,
  "metadata": {
    "colab": {
      "name": "CSC 120 LAB 06",
      "provenance": [],
      "authorship_tag": "ABX9TyOWhBvPQ7rCxmWxHgADENrL",
      "include_colab_link": true
    },
    "kernelspec": {
      "name": "python3",
      "display_name": "Python 3"
    },
    "language_info": {
      "name": "python"
    }
  },
  "cells": [
    {
      "cell_type": "markdown",
      "metadata": {
        "id": "view-in-github",
        "colab_type": "text"
      },
      "source": [
        "<a href=\"https://colab.research.google.com/github/SrithaG/CSC-120-Computer-Fundamentals/blob/main/CSC_120_LAB_06.ipynb\" target=\"_parent\"><img src=\"https://colab.research.google.com/assets/colab-badge.svg\" alt=\"Open In Colab\"/></a>"
      ]
    },
    {
      "cell_type": "code",
      "metadata": {
        "colab": {
          "base_uri": "https://localhost:8080/"
        },
        "id": "H_7xD12Cp_GO",
        "outputId": "ec1a5d39-6eff-4762-dc68-294d729cf2e4"
      },
      "source": [
        "# Question 6\n",
        "SCORES = [40,91,85,15]\n",
        "SCORES2 = SCORES[:]\n",
        "pairs = []\n",
        "for x in SCORES:\n",
        "  for y in SCORES2:\n",
        "    if x != y:\n",
        "      if (y,x) not in pairs:\n",
        "        pairs.append((x,y))\n",
        "        print(str(x) + \",\" + str(y))\n"
      ],
      "execution_count": null,
      "outputs": [
        {
          "output_type": "stream",
          "text": [
            "40,91\n",
            "40,85\n",
            "40,15\n",
            "91,85\n",
            "91,15\n",
            "85,15\n"
          ],
          "name": "stdout"
        }
      ]
    },
    {
      "cell_type": "code",
      "metadata": {
        "colab": {
          "base_uri": "https://localhost:8080/"
        },
        "id": "whLDCSxJz4uM",
        "outputId": "3b49184c-ba3c-443b-a5f0-cce0425b1547"
      },
      "source": [
        "# Extra Credit Challenge Question\n",
        "s = \"i_love_programming_in_python_and_i_will_alzways_program\"\n",
        "\n",
        "char_noted = {}\n",
        "for char in s:\n",
        "    if char in char_noted:\n",
        "        char_noted[char] = char_noted[char] + 1\n",
        "    else:\n",
        "        char_noted[char] = 1\n",
        "\n",
        "unique_characters = []\n",
        "for char in char_noted:\n",
        "  if char_noted[char] == 1:\n",
        "    unique_characters.append(char)\n",
        "print('The unique characters in this string are:', unique_characters)"
      ],
      "execution_count": null,
      "outputs": [
        {
          "output_type": "stream",
          "text": [
            "The unique characters in this string are: ['v', 'e', 't', 'h', 'd', 'z', 's']\n"
          ],
          "name": "stdout"
        }
      ]
    }
  ]
}